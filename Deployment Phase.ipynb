{
 "cells": [
  {
   "cell_type": "code",
   "execution_count": 5,
   "id": "a50d8e0c-f431-41b7-a6ea-10090e046e4a",
   "metadata": {},
   "outputs": [],
   "source": [
    "import pickle"
   ]
  },
  {
   "cell_type": "code",
   "execution_count": 6,
   "id": "26bbd98d-64f2-4208-b347-692a64d41331",
   "metadata": {},
   "outputs": [],
   "source": [
    "model= pickle.load(open(\"Multi_Linear_Model.sav\",'rb'))"
   ]
  },
  {
   "cell_type": "code",
   "execution_count": 11,
   "id": "deb282d8-a7ea-41cb-94b5-25b0b1ba7c76",
   "metadata": {},
   "outputs": [
    {
     "name": "stdin",
     "output_type": "stream",
     "text": [
      "R&D Spend: 165349.20\n",
      "Administration: 136897.80\n",
      "Marketing Spend: 4717.1084\n",
      "State_Florida 0 or 1: 0\n",
      "State_New York 0 or 1: 1\n"
     ]
    },
    {
     "name": "stdout",
     "output_type": "stream",
     "text": [
      "Result: [[175820.24073199]]\n"
     ]
    },
    {
     "name": "stderr",
     "output_type": "stream",
     "text": [
      "C:\\Anaconda3\\Lib\\site-packages\\sklearn\\base.py:439: UserWarning: X does not have valid feature names, but LinearRegression was fitted with feature names\n",
      "  warnings.warn(\n"
     ]
    }
   ],
   "source": [
    "RDSpend_input = float(input(\"R&D Spend:\"))\n",
    "Administration_input = float(input(\"Administration:\"))     \n",
    "MarketingSpend_input = float(input(\"Marketing Spend:\"))\n",
    "State_Florida_input = int(input(\"State_Florida 0 or 1:\"))\n",
    "State_NewYork_input = int(input(\"State_New York 0 or 1:\"))\n",
    "result = model.predict([[RDSpend_input,Administration_input,MarketingSpend_input,State_Florida_input,State_NewYork_input]])\n",
    "print(\"Result:\",result)"
   ]
  },
  {
   "cell_type": "code",
   "execution_count": null,
   "id": "2a287edb-f2b9-4b4e-9235-bb6123f4448f",
   "metadata": {},
   "outputs": [],
   "source": [
    "# 165349.20\t136897.80\t471784.10\t192261.83\t0\t1\n",
    "\n"
   ]
  }
 ],
 "metadata": {
  "kernelspec": {
   "display_name": "Python 3 (ipykernel)",
   "language": "python",
   "name": "python3"
  },
  "language_info": {
   "codemirror_mode": {
    "name": "ipython",
    "version": 3
   },
   "file_extension": ".py",
   "mimetype": "text/x-python",
   "name": "python",
   "nbconvert_exporter": "python",
   "pygments_lexer": "ipython3",
   "version": "3.11.7"
  }
 },
 "nbformat": 4,
 "nbformat_minor": 5
}
